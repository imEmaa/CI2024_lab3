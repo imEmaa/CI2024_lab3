{
 "cells": [
  {
   "cell_type": "markdown",
   "metadata": {
    "vscode": {
     "languageId": "plaintext"
    }
   },
   "source": [
    "Copyright **`(c)`** 2024 Giovanni Squillero `<giovanni.squillero@polito.it>`  \n",
    "[`https://github.com/squillero/computational-intelligence`](https://github.com/squillero/computational-intelligence)  \n",
    "Free under certain conditions — see the [`license`](https://github.com/squillero/computational-intelligence/blob/master/LICENSE.md) for details.  "
   ]
  },
  {
   "cell_type": "code",
   "execution_count": 2,
   "metadata": {},
   "outputs": [],
   "source": [
    "PYTHONOPTIMIZE=1"
   ]
  },
  {
   "cell_type": "code",
   "execution_count": 3,
   "metadata": {},
   "outputs": [],
   "source": [
    "from collections import namedtuple\n",
    "from random import choice\n",
    "from tqdm.auto import tqdm\n",
    "import heapq\n",
    "import functools\n",
    "import numpy as np\n",
    "from icecream import ic"
   ]
  },
  {
   "cell_type": "markdown",
   "metadata": {},
   "source": [
    "## Instance generator for the N-Puzzle problem"
   ]
  },
  {
   "cell_type": "code",
   "execution_count": 4,
   "metadata": {},
   "outputs": [],
   "source": [
    "PUZZLE_DIM = 3\n",
    "PUZZLE_SIZE = PUZZLE_DIM * PUZZLE_DIM\n",
    "action = namedtuple('Action', ['pos1', 'pos2'])"
   ]
  },
  {
   "cell_type": "code",
   "execution_count": 5,
   "metadata": {},
   "outputs": [],
   "source": [
    "def available_actions(state: np.ndarray) -> list['Action']:\n",
    "    x, y = [int(_[0]) for _ in np.where(state == 0)]\n",
    "    actions = list()\n",
    "    if x > 0:\n",
    "        actions.append(action((x, y), (x - 1, y)))\n",
    "    if x < PUZZLE_DIM - 1:\n",
    "        actions.append(action((x, y), (x + 1, y)))\n",
    "    if y > 0:\n",
    "        actions.append(action((x, y), (x, y - 1)))\n",
    "    if y < PUZZLE_DIM - 1:\n",
    "        actions.append(action((x, y), (x, y + 1)))\n",
    "    return actions\n",
    "\n",
    "def counter(fn):\n",
    "    @functools.wraps(fn)\n",
    "    def helper(*args, **kargs):\n",
    "        helper.calls += 1\n",
    "        return fn(*args, **kargs)\n",
    "    helper.calls = 0\n",
    "    return helper\n",
    "\n",
    "def do_action(state: np.ndarray, action: 'Action') -> np.ndarray:\n",
    "    new_state = state.copy()\n",
    "    new_state[action.pos1], new_state[action.pos2] = new_state[action.pos2], new_state[action.pos1]\n",
    "    return new_state\n",
    "\n",
    "def is_solvable(puzzle, goal):\n",
    "    puzzle_flat = puzzle.flatten()\n",
    "    goal_flat = goal.flatten()\n",
    "\n",
    "    goal_positions = {value: idx for idx, value in enumerate(goal_flat)}\n",
    "    puzzle_mapped = [goal_positions[val] for val in puzzle_flat if val != 0]\n",
    "\n",
    "    inversions = 0\n",
    "    for i in range(len(puzzle_mapped)):\n",
    "        for j in range(i + 1, len(puzzle_mapped)):\n",
    "            if puzzle_mapped[i] > puzzle_mapped[j]:\n",
    "                inversions += 1\n",
    "\n",
    "    blank_row_from_bottom = PUZZLE_DIM - np.where(puzzle == 0)[0][0]\n",
    "    # ic(blank_row_from_bottom)\n",
    "\n",
    "    if PUZZLE_DIM % 2 == 1:  # Odd-sized puzzle\n",
    "        return inversions % 2 == 0\n",
    "    else:  # Even-sized puzzle\n",
    "        return (blank_row_from_bottom % 2 == 0) == (inversions % 2 == 0)"
   ]
  },
  {
   "cell_type": "markdown",
   "metadata": {},
   "source": [
    "Generate iteratively the solution as goal_state"
   ]
  },
  {
   "cell_type": "code",
   "execution_count": 6,
   "metadata": {},
   "outputs": [],
   "source": [
    "def generate_solution(n):\n",
    "    matrix = np.zeros((n, n), dtype=int)\n",
    "    num = 1\n",
    "    stop = n * n\n",
    "    top, bottom, left, right = 0, n - 1, 0, n - 1\n",
    "\n",
    "    # i have to fill until the matrix collapses into a single element ( top = bottom and left = right )\n",
    "    while top <= bottom and left <= right:\n",
    "        if num == stop:\n",
    "            break\n",
    "        for i in range(left, right + 1):\n",
    "            matrix[top, i] = num\n",
    "            num += 1\n",
    "        top += 1\n",
    "        if num == stop:\n",
    "            break\n",
    "        for i in range(top, bottom + 1):\n",
    "            matrix[i, right] = num\n",
    "            num += 1\n",
    "        right -= 1\n",
    "        # in case of 2*2 matrix, we don't need to fill the bottom row, so let's check\n",
    "        if top <= bottom and num != stop:\n",
    "            for i in range(right, left - 1, -1):\n",
    "                matrix[bottom, i] = num\n",
    "                num += 1\n",
    "            bottom -= 1\n",
    "        else:\n",
    "            break\n",
    "        # same here\n",
    "        if left <= right != stop:\n",
    "            for i in range(bottom, top - 1, -1):\n",
    "                matrix[i, left] = num\n",
    "                num += 1\n",
    "            left += 1\n",
    "        else:\n",
    "            break\n",
    "    return matrix"
   ]
  },
  {
   "cell_type": "markdown",
   "metadata": {},
   "source": [
    "Randomizing the initial matrix"
   ]
  },
  {
   "cell_type": "code",
   "execution_count": 7,
   "metadata": {},
   "outputs": [
    {
     "name": "stderr",
     "output_type": "stream",
     "text": [
      "ic| state: array([[1, 3, 7],\n",
      "                  [4, 6, 5],\n",
      "                  [0, 2, 8]])\n",
      "    solvable: True\n"
     ]
    }
   ],
   "source": [
    "RANDOMIZE_STEPS = (PUZZLE_DIM * PUZZLE_DIM-1) * 1000\n",
    "goal_state = generate_solution(PUZZLE_DIM)\n",
    "\n",
    "# state = np.array([i for i in range(1, PUZZLE_SIZE)] + [0]).reshape((PUZZLE_DIM, PUZZLE_DIM))\n",
    "# for r in tqdm(range(RANDOMIZE_STEPS), desc='Randomizing'):\n",
    "#     state = do_action(state, choice(available_actions(state)))\n",
    "\n",
    "# Randomizing until i found a solvable puzzle\n",
    "solvable = False\n",
    "while not solvable:\n",
    "    # instead of generating a random state, i will generate a solution and randomize it\n",
    "    if PUZZLE_DIM % 2 != 0:\n",
    "        state = goal_state.copy()\n",
    "    else:\n",
    "        state = np.array([i for i in range(1, PUZZLE_SIZE)] + [0]).reshape((PUZZLE_DIM, PUZZLE_DIM))\n",
    "    for r in range(RANDOMIZE_STEPS):\n",
    "        state = do_action(state, choice(available_actions(state)))\n",
    "    solvable = is_solvable(state, goal_state)\n",
    "ic(state, solvable)\n",
    "None"
   ]
  },
  {
   "cell_type": "markdown",
   "metadata": {},
   "source": [
    "## A* search"
   ]
  },
  {
   "cell_type": "markdown",
   "metadata": {},
   "source": [
    "### Heuristic distance"
   ]
  },
  {
   "cell_type": "markdown",
   "metadata": {},
   "source": [
    "- Manhattan distance\n",
    "- Linear conflict distance ( found online when i was reading about manhattan distance )"
   ]
  },
  {
   "cell_type": "code",
   "execution_count": 8,
   "metadata": {},
   "outputs": [],
   "source": [
    "def manhattan_distance(curr, goal):\n",
    "    distance = 0\n",
    "    for i in range(PUZZLE_DIM):\n",
    "        for j in range(PUZZLE_DIM):\n",
    "            if curr[i][j] != 0:\n",
    "                goal_i, goal_j = np.where(goal == curr[i][j])\n",
    "                distance += abs(goal_i - i) + abs(goal_j - j)\n",
    "    return distance\n",
    "\n",
    "def linear_conflict_distance(curr, goal):\n",
    "    distance = 0\n",
    "    linear_conflict = 0\n",
    "\n",
    "    for i in range(PUZZLE_DIM):\n",
    "        for j in range(PUZZLE_DIM):\n",
    "            if curr[i][j] != 0:\n",
    "                # Compute Manhattan distance\n",
    "                goal_i, goal_j = np.where(goal == curr[i][j])\n",
    "                distance += abs(goal_i - i) + abs(goal_j - j)\n",
    "                # Check for linear conflicts in the row\n",
    "                if goal_i == i:\n",
    "                    for k in range(j + 1, PUZZLE_DIM):  # Compare with other tiles in the row\n",
    "                        if curr[i][k] != 0: \n",
    "                            goal_k_i, goal_k_j = np.where(goal == curr[i][k])\n",
    "                            if goal_k_i == i and goal_j > goal_k_j:\n",
    "                                linear_conflict += 2\n",
    "                # Check for linear conflicts in the column\n",
    "                if goal_j == j:\n",
    "                    for k in range(i + 1, PUZZLE_DIM):  # Compare with other tiles in the column\n",
    "                        if curr[k][j] != 0:\n",
    "                            goal_k_i, goal_k_j = np.where(goal == curr[k][j])\n",
    "                            if goal_k_j == j and goal_i > goal_k_i:\n",
    "                                linear_conflict += 2\n",
    "\n",
    "    return distance + linear_conflict\n",
    "\n",
    "def to_tuple(state):\n",
    "    return tuple(map(tuple, state))\n",
    "\n",
    "def to_matrix(tuple):\n",
    "    return np.array(tuple).reshape((PUZZLE_DIM, PUZZLE_DIM))"
   ]
  },
  {
   "cell_type": "markdown",
   "metadata": {},
   "source": [
    "### A* algorithm"
   ]
  },
  {
   "cell_type": "code",
   "execution_count": 9,
   "metadata": {},
   "outputs": [],
   "source": [
    "def a_star_algo(start, gol, heuristic):\n",
    "    open_list = [] # all the nodes that we have to visit\n",
    "    close_list = set() # all the nodes that we have visited\n",
    "    start_tuple = to_tuple(start)\n",
    "    heapq.heappush(open_list, (0, start_tuple, 0)) # (f_score, state, 0)\n",
    "    came_from = {}\n",
    "    g_score = {start_tuple: 0} # cost for each node stored in a dictionary\n",
    "    goal_tuple = to_tuple(gol)\n",
    "\n",
    "    while open_list: \n",
    "\n",
    "        _, current, cost = heapq.heappop(open_list)\n",
    "\n",
    "        # terminate if we reach the goal state and build the path by backtracking the came_from dictionary\n",
    "        if current == goal_tuple:\n",
    "            ic(len(open_list), len(close_list))\n",
    "            path = []\n",
    "            while current in came_from:\n",
    "                path.append(current)\n",
    "                current = came_from[current]\n",
    "            path.append(start_tuple)\n",
    "            return (1, path[::-1])\n",
    "        current_state = to_matrix(current)\n",
    "\n",
    "        if current in close_list and g_score[current] < cost:\n",
    "            continue\n",
    "        close_list.add(current)\n",
    "\n",
    "        # fix this ?\n",
    "        for act in available_actions(current_state):\n",
    "            new_state = do_action(current_state, act)\n",
    "            new_state_tuple = to_tuple(new_state)\n",
    "            new_cost = cost + 1\n",
    "\n",
    "            if new_state_tuple not in g_score or new_cost < g_score[new_state_tuple]:\n",
    "                g_score[new_state_tuple] = new_cost\n",
    "                f_score = new_cost + heuristic(new_state, gol)\n",
    "                heapq.heappush(open_list, (f_score, new_state_tuple, new_cost))\n",
    "                came_from[new_state_tuple] = current\n",
    "\n",
    "    return (0, came_from)"
   ]
  },
  {
   "cell_type": "markdown",
   "metadata": {},
   "source": [
    "## Solver"
   ]
  },
  {
   "cell_type": "code",
   "execution_count": 8,
   "metadata": {},
   "outputs": [
    {
     "name": "stdout",
     "output_type": "stream",
     "text": [
      "Sample2 is not solvable\n"
     ]
    }
   ],
   "source": [
    "# A sample test case ( solved in 26 steps )\n",
    "sample = np.array([1, 2, 7, 4, 5, 6, 3, 0, 8]).reshape((3, 3))\n",
    "sample2 = np.array([7, 6, 3, 1, 4, 8, 0, 2, 5]).reshape((3, 3))\n",
    "# making sample2 solvable by swapping 1 and 4\n",
    "sample3 = np.array([7, 6, 3, 4, 1, 8, 2, 0, 5]).reshape((3, 3))\n",
    "if not is_solvable(sample, goal_state):\n",
    "    print(\"Sample is not solvable\")\n",
    "if not is_solvable(sample2, goal_state):\n",
    "    print(\"Sample2 is not solvable\")\n",
    "if not is_solvable(sample3, goal_state):\n",
    "    print(\"Sample2 is not solvable even after swapping 1 and 4\")\n",
    "if not is_solvable(state, goal_state):\n",
    "    print(\"State is not solvable\")\n",
    "samples = [sample, sample2, sample3, state]"
   ]
  },
  {
   "cell_type": "markdown",
   "metadata": {},
   "source": [
    "Comparison between manatthan distance and linear conflict speed"
   ]
  },
  {
   "cell_type": "code",
   "execution_count": 10,
   "metadata": {},
   "outputs": [
    {
     "name": "stderr",
     "output_type": "stream",
     "text": [
      "ic| len(open_list): 172, len(close_list): 275\n",
      "ic| len(open_list): 126, len(close_list): 202\n"
     ]
    },
    {
     "name": "stdout",
     "output_type": "stream",
     "text": [
      "Manhattan distance: 23\n",
      "Linear conflict distance: 23\n"
     ]
    }
   ],
   "source": [
    "solution_manhattan = a_star_algo(state, goal_state, manhattan_distance)\n",
    "if solution_manhattan[0] == 1 :\n",
    "    path = solution_manhattan[1]\n",
    "    print(f\"Manhattan distance: {len(path)}\")\n",
    "else:\n",
    "    print('No solution')\n",
    "\n",
    "solution_linear_conflict = a_star_algo(state, goal_state, linear_conflict_distance)\n",
    "if solution_linear_conflict[0] == 1 :\n",
    "    path = solution_linear_conflict[1]\n",
    "    print(f\"Linear conflict distance: {len(path)}\")\n",
    "else:\n",
    "    print('No solution')"
   ]
  },
  {
   "cell_type": "markdown",
   "metadata": {},
   "source": [
    "Linear conflict is faster as it is more efficient, so i'll continue using this approach. Here an example of a 4x4"
   ]
  },
  {
   "cell_type": "code",
   "execution_count": 35,
   "metadata": {},
   "outputs": [
    {
     "name": "stderr",
     "output_type": "stream",
     "text": [
      "ic| len(open_list): 102535, len(close_list): 117444\n"
     ]
    },
    {
     "name": "stdout",
     "output_type": "stream",
     "text": [
      "Solved\n",
      "[[11 14  0  3]\n",
      " [ 4  5  1 10]\n",
      " [13  8 12  2]\n",
      " [15  7  9  6]]\n",
      "with linear conflict distance: 50\n"
     ]
    }
   ],
   "source": [
    "solution_linear_conflict = a_star_algo(state, goal_state, linear_conflict_distance)\n",
    "if solution_linear_conflict[0] == 1 :\n",
    "    path = solution_linear_conflict[1]\n",
    "    print(f\"Solved\\n{state}\\nwith linear conflict distance: {len(path)}\")\n",
    "else:\n",
    "    print(f'{state} has no solution')"
   ]
  },
  {
   "cell_type": "markdown",
   "metadata": {},
   "source": [
    "Solving state and samples"
   ]
  },
  {
   "cell_type": "code",
   "execution_count": 195,
   "metadata": {},
   "outputs": [
    {
     "name": "stderr",
     "output_type": "stream",
     "text": [
      "ic| len(open_list): 403, len(close_list): 725\n"
     ]
    },
    {
     "name": "stdout",
     "output_type": "stream",
     "text": [
      "Solved\n",
      "[[1 2 7]\n",
      " [4 5 6]\n",
      " [3 0 8]]\n",
      "with linear conflict distance: 26\n"
     ]
    },
    {
     "name": "stderr",
     "output_type": "stream",
     "text": [
      "ic| len(open_list): 437, len(close_list):"
     ]
    },
    {
     "name": "stdout",
     "output_type": "stream",
     "text": [
      "[[7 6 3]\n",
      " [1 4 8]\n",
      " [0 2 5]] has no solution\n"
     ]
    },
    {
     "name": "stderr",
     "output_type": "stream",
     "text": [
      " 754\n",
      "ic| len(open_list): 35, len(close_list): 52\n"
     ]
    },
    {
     "name": "stdout",
     "output_type": "stream",
     "text": [
      "Solved\n",
      "[[7 6 3]\n",
      " [4 1 8]\n",
      " [2 0 5]]\n",
      "with linear conflict distance: 26\n",
      "Solved\n",
      "[[0 7 4]\n",
      " [3 8 5]\n",
      " [1 2 6]]\n",
      "with linear conflict distance: 19\n"
     ]
    }
   ],
   "source": [
    "for sol in samples:\n",
    "    solution_linear_conflict = a_star_algo(sol, goal_state, linear_conflict_distance)\n",
    "    if solution_linear_conflict[0] == 1 :\n",
    "        path = solution_linear_conflict[1]\n",
    "        print(f\"Solved\\n{sol}\\nwith linear conflict distance: {len(path)}\")\n",
    "    else:\n",
    "        print(f'{sol} has no solution')"
   ]
  },
  {
   "cell_type": "markdown",
   "metadata": {},
   "source": [
    "Trying with 10 random puzzles"
   ]
  },
  {
   "cell_type": "code",
   "execution_count": null,
   "metadata": {},
   "outputs": [],
   "source": [
    "RANDOMIZE_STEPS = 100\n",
    "for i in tqdm(range(10), desc='Trying 10 random puzzles'):\n",
    "\n",
    "    state = np.array([i for i in range(1, PUZZLE_SIZE)] + [0]).reshape((PUZZLE_DIM, PUZZLE_DIM))\n",
    "    for r in range(RANDOMIZE_STEPS):\n",
    "        state = do_action(state, choice(available_actions(state)))\n",
    "\n",
    "    solution_linear_conflict = a_star_algo(state, goal_state, linear_conflict_distance)\n",
    "    if solution_linear_conflict[0] == 1 :\n",
    "        path = solution_linear_conflict[1]\n",
    "        print(f\"Linear conflict distance for puzzle {i}: {len(path)}\")\n",
    "    else:\n",
    "        print(f'No solution for puzzle {i}')"
   ]
  }
 ],
 "metadata": {
  "kernelspec": {
   "display_name": "CI2024",
   "language": "python",
   "name": "python3"
  },
  "language_info": {
   "codemirror_mode": {
    "name": "ipython",
    "version": 3
   },
   "file_extension": ".py",
   "mimetype": "text/x-python",
   "name": "python",
   "nbconvert_exporter": "python",
   "pygments_lexer": "ipython3",
   "version": "3.12.6"
  }
 },
 "nbformat": 4,
 "nbformat_minor": 2
}
